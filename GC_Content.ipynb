{
 "cells": [
  {
   "cell_type": "code",
   "execution_count": 10,
   "metadata": {},
   "outputs": [
    {
     "name": "stdout",
     "output_type": "stream",
     "text": [
      "The GC concent of the given DNA sequence is 31.48%\n"
     ]
    }
   ],
   "source": [
    "'''This script calculates the GC content of a given DNA sequence'''\n",
    "input_DNA = 'ACTGATCGATTACGTATAGTATTTGCTATCATACATATATATCGATGCGTTCAT'\n",
    "input_DNA = input_DNA.upper()\n",
    "\n",
    "G_occur = input_DNA.count('G') #count the number of G's\n",
    "C_occur = input_DNA.count('C') #count the number of C's\n",
    "DNA_len = len(input_DNA) #length of the input_DNA\n",
    "GC_content = round((G_occur + C_occur)/DNA_len*100,2) # % of GC content\n",
    "\n",
    "print('The GC concent of the given DNA sequence is ' + str(GC_content) +'%')"
   ]
  }
 ],
 "metadata": {
  "kernelspec": {
   "display_name": "Python 3",
   "language": "python",
   "name": "python3"
  },
  "language_info": {
   "codemirror_mode": {
    "name": "ipython",
    "version": 3
   },
   "file_extension": ".py",
   "mimetype": "text/x-python",
   "name": "python",
   "nbconvert_exporter": "python",
   "pygments_lexer": "ipython3",
   "version": "3.6.1"
  }
 },
 "nbformat": 4,
 "nbformat_minor": 2
}
